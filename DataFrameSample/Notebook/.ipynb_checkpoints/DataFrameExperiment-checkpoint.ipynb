{
 "cells": [
  {
   "cell_type": "code",
   "execution_count": 64,
   "metadata": {},
   "outputs": [
    {
     "data": {
      "text/html": [
       "Installing package Microsoft.Data.Analysis, version 0.2.0.done!"
      ]
     },
     "metadata": {},
     "output_type": "display_data"
    },
    {
     "data": {
      "text/html": [
       "Successfully added reference to package Microsoft.Data.Analysis, version 0.2.0"
      ]
     },
     "metadata": {},
     "output_type": "display_data"
    }
   ],
   "source": [
    "#r \"nuget:Microsoft.Data.Analysis,0.2.0\"\n",
    "using Microsoft.Data.Analysis;\n",
    "using System.Data;\n",
    "using XPlot.Plotly;"
   ]
  },
  {
   "cell_type": "code",
   "execution_count": 43,
   "metadata": {},
   "outputs": [],
   "source": [
    "PrimitiveDataFrameColumn<DateTime> createdDate = new PrimitiveDataFrameColumn<DateTime>(\"CreatedDate\");\n",
    "PrimitiveDataFrameColumn<float> temp = new PrimitiveDataFrameColumn<float>(\"Temp\");\n",
    "PrimitiveDataFrameColumn<bool> status = new PrimitiveDataFrameColumn<bool>(\"Status\",10);\n",
    "StringDataFrameColumn deviceName = new StringDataFrameColumn(\"DeviceName\",10);\n",
    "StringDataFrameColumn actions = new StringDataFrameColumn(\"Actions\", 10);\n",
    "StringDataFrameColumn factory = new StringDataFrameColumn(\"Factory\", 10);"
   ]
  },
  {
   "cell_type": "code",
   "execution_count": 44,
   "metadata": {},
   "outputs": [
    {
     "data": {
      "text/html": [
       "<table><thead><th><i>index</i></th><th>Info</th><th>CreatedDate</th><th>DeviceName</th><th>Factory</th><th>Temp</th><th>Status</th><th>Actions</th></thead><tbody><tr><td>0</td><td>DataType</td><td>System.DateTime</td><td>System.String</td><td>System.String</td><td>System.Single</td><td>System.Boolean</td><td>System.String</td></tr><tr><td>1</td><td>Length (excluding null values)</td><td>10</td><td>10</td><td>10</td><td>10</td><td>0</td><td>10</td></tr></tbody></table>"
      ]
     },
     "execution_count": 44,
     "metadata": {},
     "output_type": "execute_result"
    }
   ],
   "source": [
    "Random rnd = new Random(Environment.TickCount);\n",
    "Enumerable.Range(1, 10).ToList().ForEach(x => { createdDate.Append(DateTime.Now.AddDays(x)); temp.Append(rnd.Next(25, 50)); deviceName[x-1] = $\"device-{x}\";factory[x - 1] = $\"factory-{rnd.Next(1, 3)}\"; });\n",
    "\n",
    "var df = new DataFrame(createdDate, deviceName, factory, temp, status, actions);\n",
    "df.Info()"
   ]
  },
  {
   "cell_type": "code",
   "execution_count": 45,
   "metadata": {},
   "outputs": [
    {
     "data": {
      "text/html": [
       "<table><thead><th><i>index</i></th><th>CreatedDate</th><th>DeviceName</th><th>Factory</th><th>Temp</th><th>Status</th><th>Actions</th></thead><tbody><tr><td>0</td><td>2020-01-16 06:43:00Z</td><td>device-1</td><td>factory-2</td><td>38</td><td>&lt;null&gt;</td><td>&lt;null&gt;</td></tr><tr><td>1</td><td>2020-01-17 06:43:00Z</td><td>device-2</td><td>factory-1</td><td>39</td><td>&lt;null&gt;</td><td>&lt;null&gt;</td></tr><tr><td>2</td><td>2020-01-18 06:43:00Z</td><td>device-3</td><td>factory-2</td><td>42</td><td>&lt;null&gt;</td><td>&lt;null&gt;</td></tr><tr><td>3</td><td>2020-01-19 06:43:00Z</td><td>device-4</td><td>factory-2</td><td>39</td><td>&lt;null&gt;</td><td>&lt;null&gt;</td></tr><tr><td>4</td><td>2020-01-20 06:43:00Z</td><td>device-5</td><td>factory-1</td><td>28</td><td>&lt;null&gt;</td><td>&lt;null&gt;</td></tr><tr><td>5</td><td>2020-01-21 06:43:00Z</td><td>device-6</td><td>factory-2</td><td>35</td><td>&lt;null&gt;</td><td>&lt;null&gt;</td></tr><tr><td>6</td><td>2020-01-22 06:43:00Z</td><td>device-7</td><td>factory-1</td><td>31</td><td>&lt;null&gt;</td><td>&lt;null&gt;</td></tr><tr><td>7</td><td>2020-01-23 06:43:00Z</td><td>device-8</td><td>factory-2</td><td>43</td><td>&lt;null&gt;</td><td>&lt;null&gt;</td></tr><tr><td>8</td><td>2020-01-24 06:43:00Z</td><td>device-9</td><td>factory-2</td><td>46</td><td>&lt;null&gt;</td><td>&lt;null&gt;</td></tr><tr><td>9</td><td>2020-01-25 06:43:00Z</td><td>device-10</td><td>factory-1</td><td>33</td><td>&lt;null&gt;</td><td>&lt;null&gt;</td></tr></tbody></table>"
      ]
     },
     "execution_count": 45,
     "metadata": {},
     "output_type": "execute_result"
    }
   ],
   "source": [
    "df"
   ]
  },
  {
   "cell_type": "code",
   "execution_count": 9,
   "metadata": {},
   "outputs": [],
   "source": [
    "using Microsoft.AspNetCore.Html;\n",
    "Formatter<DataFrame>.Register((df, writer) =>\n",
    "{\n",
    "    var headers = new List<IHtmlContent>();\n",
    "    headers.Add(th(i(\"index\")));\n",
    "    headers.AddRange(df.Columns.Select(c => (IHtmlContent) th(c.Name)));\n",
    "    var rows = new List<List<IHtmlContent>>();\n",
    "    var take = 20;\n",
    "    for (var i = 0; i < Math.Min(take, df.Rows.Count); i++)\n",
    "    {\n",
    "        var cells = new List<IHtmlContent>();\n",
    "        cells.Add(td(i));\n",
    "        foreach (var obj in df.Rows[i])\n",
    "        {\n",
    "            cells.Add(td(obj));\n",
    "        }\n",
    "        rows.Add(cells);\n",
    "    }\n",
    "    \n",
    "    var t = table(\n",
    "        thead(\n",
    "            headers),\n",
    "        tbody(\n",
    "            rows.Select(\n",
    "                r => tr(r))));\n",
    "    \n",
    "    writer.Write(t);\n",
    "}, \"text/html\");"
   ]
  },
  {
   "cell_type": "code",
   "execution_count": 46,
   "metadata": {},
   "outputs": [],
   "source": [
    "df[\"Temp\"] = temp + rnd.Next(-1,1);"
   ]
  },
  {
   "cell_type": "code",
   "execution_count": 47,
   "metadata": {},
   "outputs": [
    {
     "data": {
      "text/html": [
       "<table><thead><th><i>index</i></th><th>CreatedDate</th><th>DeviceName</th><th>Factory</th><th>Temp</th><th>Status</th><th>Actions</th></thead><tbody><tr><td>0</td><td>2020-01-16 06:43:00Z</td><td>device-1</td><td>factory-2</td><td>37</td><td>False</td><td>&lt;null&gt;</td></tr><tr><td>1</td><td>2020-01-17 06:43:00Z</td><td>device-2</td><td>factory-1</td><td>38</td><td>False</td><td>&lt;null&gt;</td></tr><tr><td>2</td><td>2020-01-18 06:43:00Z</td><td>device-3</td><td>factory-2</td><td>41</td><td>False</td><td>&lt;null&gt;</td></tr><tr><td>3</td><td>2020-01-19 06:43:00Z</td><td>device-4</td><td>factory-2</td><td>38</td><td>False</td><td>&lt;null&gt;</td></tr><tr><td>4</td><td>2020-01-20 06:43:00Z</td><td>device-5</td><td>factory-1</td><td>27</td><td>True</td><td>&lt;null&gt;</td></tr><tr><td>5</td><td>2020-01-21 06:43:00Z</td><td>device-6</td><td>factory-2</td><td>34</td><td>False</td><td>&lt;null&gt;</td></tr><tr><td>6</td><td>2020-01-22 06:43:00Z</td><td>device-7</td><td>factory-1</td><td>30</td><td>False</td><td>&lt;null&gt;</td></tr><tr><td>7</td><td>2020-01-23 06:43:00Z</td><td>device-8</td><td>factory-2</td><td>42</td><td>False</td><td>&lt;null&gt;</td></tr><tr><td>8</td><td>2020-01-24 06:43:00Z</td><td>device-9</td><td>factory-2</td><td>45</td><td>False</td><td>&lt;null&gt;</td></tr><tr><td>9</td><td>2020-01-25 06:43:00Z</td><td>device-10</td><td>factory-1</td><td>32</td><td>False</td><td>&lt;null&gt;</td></tr></tbody></table>"
      ]
     },
     "execution_count": 47,
     "metadata": {},
     "output_type": "execute_result"
    }
   ],
   "source": [
    "for(int row = 0; row < temp.Length; row++)\n",
    "{\n",
    "    status[row] = temp[row] <= 30;\n",
    "}\n",
    "df"
   ]
  },
  {
   "cell_type": "code",
   "execution_count": 49,
   "metadata": {},
   "outputs": [
    {
     "data": {
      "text/html": [
       "<table><thead><th><i>index</i></th><th>CreatedDate</th><th>DeviceName</th><th>Factory</th><th>Temp</th><th>Status</th><th>Actions</th></thead><tbody><tr><td>0</td><td>2020-01-16 06:43:00Z</td><td>device-1</td><td>factory-2</td><td>37</td><td>False</td><td>device perlu di reset</td></tr><tr><td>1</td><td>2020-01-17 06:43:00Z</td><td>device-2</td><td>factory-1</td><td>38</td><td>False</td><td>device perlu di reset</td></tr><tr><td>2</td><td>2020-01-18 06:43:00Z</td><td>device-3</td><td>factory-2</td><td>41</td><td>False</td><td>device perlu di reset</td></tr><tr><td>3</td><td>2020-01-19 06:43:00Z</td><td>device-4</td><td>factory-2</td><td>38</td><td>False</td><td>device perlu di reset</td></tr><tr><td>4</td><td>2020-01-20 06:43:00Z</td><td>device-5</td><td>factory-1</td><td>27</td><td>True</td><td>&lt;null&gt;</td></tr><tr><td>5</td><td>2020-01-21 06:43:00Z</td><td>device-6</td><td>factory-2</td><td>34</td><td>False</td><td>device perlu di reset</td></tr><tr><td>6</td><td>2020-01-22 06:43:00Z</td><td>device-7</td><td>factory-1</td><td>30</td><td>False</td><td>device perlu di reset</td></tr><tr><td>7</td><td>2020-01-23 06:43:00Z</td><td>device-8</td><td>factory-2</td><td>42</td><td>False</td><td>device perlu di reset</td></tr><tr><td>8</td><td>2020-01-24 06:43:00Z</td><td>device-9</td><td>factory-2</td><td>45</td><td>False</td><td>device perlu di reset</td></tr><tr><td>9</td><td>2020-01-25 06:43:00Z</td><td>device-10</td><td>factory-1</td><td>32</td><td>False</td><td>device perlu di reset</td></tr></tbody></table>"
      ]
     },
     "execution_count": 49,
     "metadata": {},
     "output_type": "execute_result"
    }
   ],
   "source": [
    "for (int row = 0; row < status.Length; row++)\n",
    "{\n",
    "    if (!status[row].Value)\n",
    "        df[row, 5] = \"device perlu di reset\"; \n",
    "\n",
    "}\n",
    "df"
   ]
  },
  {
   "cell_type": "code",
   "execution_count": 50,
   "metadata": {},
   "outputs": [
    {
     "data": {
      "text/html": [
       "<table><thead><th><i>index</i></th><th>CreatedDate</th><th>DeviceName</th><th>Factory</th><th>Temp</th><th>Status</th><th>Actions</th></thead><tbody><tr><td>0</td><td>2020-01-16 06:43:00Z</td><td>device-1</td><td>factory-2</td><td>37</td><td>False</td><td>device perlu di reset</td></tr><tr><td>1</td><td>2020-01-17 06:43:00Z</td><td>device-2</td><td>factory-1</td><td>38</td><td>False</td><td>device perlu di reset</td></tr><tr><td>2</td><td>2020-01-18 06:43:00Z</td><td>device-3</td><td>factory-2</td><td>41</td><td>False</td><td>device perlu di reset</td></tr><tr><td>3</td><td>2020-01-19 06:43:00Z</td><td>device-4</td><td>factory-2</td><td>38</td><td>False</td><td>device perlu di reset</td></tr><tr><td>4</td><td>2020-01-20 06:43:00Z</td><td>device-5</td><td>factory-1</td><td>27</td><td>True</td><td>-</td></tr><tr><td>5</td><td>2020-01-21 06:43:00Z</td><td>device-6</td><td>factory-2</td><td>34</td><td>False</td><td>device perlu di reset</td></tr><tr><td>6</td><td>2020-01-22 06:43:00Z</td><td>device-7</td><td>factory-1</td><td>30</td><td>False</td><td>device perlu di reset</td></tr><tr><td>7</td><td>2020-01-23 06:43:00Z</td><td>device-8</td><td>factory-2</td><td>42</td><td>False</td><td>device perlu di reset</td></tr><tr><td>8</td><td>2020-01-24 06:43:00Z</td><td>device-9</td><td>factory-2</td><td>45</td><td>False</td><td>device perlu di reset</td></tr><tr><td>9</td><td>2020-01-25 06:43:00Z</td><td>device-10</td><td>factory-1</td><td>32</td><td>False</td><td>device perlu di reset</td></tr></tbody></table>"
      ]
     },
     "execution_count": 50,
     "metadata": {},
     "output_type": "execute_result"
    }
   ],
   "source": [
    "df[\"Actions\"].FillNulls(\"-\", inPlace: true);\n",
    "df"
   ]
  },
  {
   "cell_type": "code",
   "execution_count": 51,
   "metadata": {},
   "outputs": [],
   "source": [
    "DataTable dt = new DataTable(\"data sensor\");\n",
    "           \n",
    "foreach (var dc in df.Columns)\n",
    "{\n",
    "    dt.Columns.Add(dc.Name.Replace(\" \", \"\").Trim());\n",
    "}\n",
    "dt.AcceptChanges();\n",
    "\n",
    "for (long i = 0; i < df.Rows.Count; i++)\n",
    "{\n",
    "    DataFrameRow row = df.Rows[i];\n",
    "    var newRow = dt.NewRow();\n",
    "    var cols = 0;\n",
    "    foreach (var cell in row)\n",
    "    {\n",
    "        newRow[cols] = cell.ToString();\n",
    "        cols++;\n",
    "    }\n",
    "    dt.Rows.Add(newRow);\n",
    "}\n",
    "dt.AcceptChanges();"
   ]
  },
  {
   "cell_type": "code",
   "execution_count": 52,
   "metadata": {},
   "outputs": [],
   "source": [
    " Formatter<DataTable>.Register((df, writer) =>\n",
    "            {\n",
    "                var headers = new List<IHtmlContent>();\n",
    "                headers.Add(th(i(\"index\")));\n",
    "                foreach (DataColumn dc in df.Columns)\n",
    "                {\n",
    "                    headers.Add((IHtmlContent)th(dc.ColumnName));\n",
    "                }\n",
    "               \n",
    "                var rows = new List<List<IHtmlContent>>();\n",
    "                var take = 20;\n",
    "                for (var i = 0; i < Math.Min(take, df.Rows.Count); i++)\n",
    "                {\n",
    "                    var cells = new List<IHtmlContent>();\n",
    "                    cells.Add(td(i));\n",
    "                    DataRow obj = df.Rows[i];\n",
    "                    \n",
    "                    for (int x = 0; x < df.Columns.Count;x++)\n",
    "                    {\n",
    "                        cells.Add(td(obj[x].ToString()));\n",
    "                    }\n",
    "                    \n",
    "                   \n",
    "                    rows.Add(cells);\n",
    "                }\n",
    "\n",
    "                var t = table(\n",
    "                    thead(\n",
    "                        headers),\n",
    "                    tbody(\n",
    "                        rows.Select(\n",
    "                            r => tr(r))));\n",
    "\n",
    "                writer.Write(t);\n",
    "            }, \"text/html\");"
   ]
  },
  {
   "cell_type": "code",
   "execution_count": 53,
   "metadata": {},
   "outputs": [
    {
     "data": {
      "text/html": [
       "<table><thead><th><i>index</i></th><th>CreatedDate</th><th>DeviceName</th><th>Factory</th><th>Temp</th><th>Status</th><th>Actions</th></thead><tbody><tr><td>0</td><td>1/16/2020 6:43:00 AM</td><td>device-1</td><td>factory-2</td><td>37</td><td>False</td><td>device perlu di reset</td></tr><tr><td>1</td><td>1/17/2020 6:43:00 AM</td><td>device-2</td><td>factory-1</td><td>38</td><td>False</td><td>device perlu di reset</td></tr><tr><td>2</td><td>1/18/2020 6:43:00 AM</td><td>device-3</td><td>factory-2</td><td>41</td><td>False</td><td>device perlu di reset</td></tr><tr><td>3</td><td>1/19/2020 6:43:00 AM</td><td>device-4</td><td>factory-2</td><td>38</td><td>False</td><td>device perlu di reset</td></tr><tr><td>4</td><td>1/20/2020 6:43:00 AM</td><td>device-5</td><td>factory-1</td><td>27</td><td>True</td><td>-</td></tr><tr><td>5</td><td>1/21/2020 6:43:00 AM</td><td>device-6</td><td>factory-2</td><td>34</td><td>False</td><td>device perlu di reset</td></tr><tr><td>6</td><td>1/22/2020 6:43:00 AM</td><td>device-7</td><td>factory-1</td><td>30</td><td>False</td><td>device perlu di reset</td></tr><tr><td>7</td><td>1/23/2020 6:43:00 AM</td><td>device-8</td><td>factory-2</td><td>42</td><td>False</td><td>device perlu di reset</td></tr><tr><td>8</td><td>1/24/2020 6:43:00 AM</td><td>device-9</td><td>factory-2</td><td>45</td><td>False</td><td>device perlu di reset</td></tr><tr><td>9</td><td>1/25/2020 6:43:00 AM</td><td>device-10</td><td>factory-1</td><td>32</td><td>False</td><td>device perlu di reset</td></tr></tbody></table>"
      ]
     },
     "execution_count": 53,
     "metadata": {},
     "output_type": "execute_result"
    }
   ],
   "source": [
    "dt"
   ]
  },
  {
   "cell_type": "code",
   "execution_count": 55,
   "metadata": {},
   "outputs": [
    {
     "data": {
      "text/html": [
       "<table><thead><th><i>index</i></th><th>CreatedDate</th><th>DeviceName</th><th>Factory</th><th>Temp</th><th>Status</th><th>Actions</th></thead><tbody><tr><td>0</td><td>2020-01-16 06:43:00Z</td><td>device-1</td><td>factory-2</td><td>37</td><td>False</td><td>device perlu di reset</td></tr><tr><td>1</td><td>2020-01-17 06:43:00Z</td><td>device-2</td><td>factory-1</td><td>38</td><td>False</td><td>device perlu di reset</td></tr><tr><td>2</td><td>2020-01-18 06:43:00Z</td><td>device-3</td><td>factory-2</td><td>41</td><td>False</td><td>device perlu di reset</td></tr><tr><td>3</td><td>2020-01-19 06:43:00Z</td><td>device-4</td><td>factory-2</td><td>38</td><td>False</td><td>device perlu di reset</td></tr><tr><td>4</td><td>2020-01-21 06:43:00Z</td><td>device-6</td><td>factory-2</td><td>34</td><td>False</td><td>device perlu di reset</td></tr><tr><td>5</td><td>2020-01-22 06:43:00Z</td><td>device-7</td><td>factory-1</td><td>30</td><td>False</td><td>device perlu di reset</td></tr><tr><td>6</td><td>2020-01-23 06:43:00Z</td><td>device-8</td><td>factory-2</td><td>42</td><td>False</td><td>device perlu di reset</td></tr><tr><td>7</td><td>2020-01-24 06:43:00Z</td><td>device-9</td><td>factory-2</td><td>45</td><td>False</td><td>device perlu di reset</td></tr><tr><td>8</td><td>2020-01-25 06:43:00Z</td><td>device-10</td><td>factory-1</td><td>32</td><td>False</td><td>device perlu di reset</td></tr></tbody></table>"
      ]
     },
     "execution_count": 55,
     "metadata": {},
     "output_type": "execute_result"
    }
   ],
   "source": [
    "PrimitiveDataFrameColumn<bool> boolFilter = df[\"Actions\"].ElementwiseNotEquals(\"-\");\n",
    "DataFrame filtered = df.Filter(boolFilter);\n",
    "filtered"
   ]
  },
  {
   "cell_type": "code",
   "execution_count": 56,
   "metadata": {},
   "outputs": [
    {
     "data": {
      "text/html": [
       "<table><thead><th><i>index</i></th><th>CreatedDate</th><th>DeviceName</th><th>Factory</th><th>Temp</th><th>Status</th><th>Actions</th></thead><tbody><tr><td>0</td><td>2020-01-20 06:43:00Z</td><td>device-5</td><td>factory-1</td><td>27</td><td>True</td><td>-</td></tr><tr><td>1</td><td>2020-01-22 06:43:00Z</td><td>device-7</td><td>factory-1</td><td>30</td><td>False</td><td>device perlu di reset</td></tr><tr><td>2</td><td>2020-01-25 06:43:00Z</td><td>device-10</td><td>factory-1</td><td>32</td><td>False</td><td>device perlu di reset</td></tr><tr><td>3</td><td>2020-01-21 06:43:00Z</td><td>device-6</td><td>factory-2</td><td>34</td><td>False</td><td>device perlu di reset</td></tr><tr><td>4</td><td>2020-01-16 06:43:00Z</td><td>device-1</td><td>factory-2</td><td>37</td><td>False</td><td>device perlu di reset</td></tr><tr><td>5</td><td>2020-01-17 06:43:00Z</td><td>device-2</td><td>factory-1</td><td>38</td><td>False</td><td>device perlu di reset</td></tr><tr><td>6</td><td>2020-01-19 06:43:00Z</td><td>device-4</td><td>factory-2</td><td>38</td><td>False</td><td>device perlu di reset</td></tr><tr><td>7</td><td>2020-01-18 06:43:00Z</td><td>device-3</td><td>factory-2</td><td>41</td><td>False</td><td>device perlu di reset</td></tr><tr><td>8</td><td>2020-01-23 06:43:00Z</td><td>device-8</td><td>factory-2</td><td>42</td><td>False</td><td>device perlu di reset</td></tr><tr><td>9</td><td>2020-01-24 06:43:00Z</td><td>device-9</td><td>factory-2</td><td>45</td><td>False</td><td>device perlu di reset</td></tr></tbody></table>"
      ]
     },
     "execution_count": 56,
     "metadata": {},
     "output_type": "execute_result"
    }
   ],
   "source": [
    "DataFrame sorted = df.Sort(\"Temp\");\n",
    "sorted"
   ]
  },
  {
   "cell_type": "code",
   "execution_count": 57,
   "metadata": {},
   "outputs": [],
   "source": [
    "GroupBy groupBy = df.GroupBy(\"Factory\");\n"
   ]
  },
  {
   "cell_type": "code",
   "execution_count": 63,
   "metadata": {},
   "outputs": [
    {
     "data": {
      "text/html": [
       "<table><thead><th><i>index</i></th><th>Factory</th><th>Temp</th></thead><tbody><tr><td>0</td><td>factory-2</td><td>39.5</td></tr><tr><td>1</td><td>factory-1</td><td>31.75</td></tr></tbody></table>"
      ]
     },
     "execution_count": 63,
     "metadata": {},
     "output_type": "execute_result"
    }
   ],
   "source": [
    "// Count of values in each group\n",
    "DataFrame groupCounts = groupBy.Count();\n",
    "// Alternatively find the sum of the values in each group in Ints\n",
    "DataFrame tempGroupAvg = groupBy.Mean(\"Temp\");\n",
    "tempGroupAvg"
   ]
  },
  {
   "cell_type": "code",
   "execution_count": 65,
   "metadata": {},
   "outputs": [
    {
     "data": {
      "text/html": [
       "<div id=\"21d76c72-6a1e-4a33-84d8-e904be4bc737\" style=\"width: 900px; height: 500px;\"></div><script type=\"text/javascript\">\r\n",
       "\r\n",
       "var renderPlotly = function() {\r\n",
       "    var xplotRequire = requirejs.config({context:'xplot-2.0.0',paths:{plotly:'https://cdn.plot.ly/plotly-1.49.2.min'}});\r\n",
       "    xplotRequire(['plotly'], function(Plotly) {\r\n",
       "\n",
       "            var data = [{\"type\":\"scatter\",\"x\":[\"2020-01-16T06:43:00.8245869+07:00\",\"2020-01-17T06:43:00.8246615+07:00\",\"2020-01-18T06:43:00.8246632+07:00\",\"2020-01-19T06:43:00.8246641+07:00\",\"2020-01-20T06:43:00.8246649+07:00\",\"2020-01-21T06:43:00.8246658+07:00\",\"2020-01-22T06:43:00.8246666+07:00\",\"2020-01-23T06:43:00.8246674+07:00\",\"2020-01-24T06:43:00.8246682+07:00\",\"2020-01-25T06:43:00.8246693+07:00\"],\"y\":[37.0,38.0,41.0,38.0,27.0,34.0,30.0,42.0,45.0,32.0]}];\n",
       "            var layout = {\"title\":\"Temperature per Date\"};\n",
       "            Plotly.newPlot('21d76c72-6a1e-4a33-84d8-e904be4bc737', data, layout);\n",
       "        });\r\n",
       "};\r\n",
       "if ((typeof(requirejs) !==  typeof(Function)) || (typeof(requirejs.config) !== typeof(Function))) { \r\n",
       "    var script = document.createElement(\"script\"); \r\n",
       "    script.setAttribute(\"src\", \"https://cdnjs.cloudflare.com/ajax/libs/require.js/2.3.6/require.min.js\"); \r\n",
       "    script.onload = function(){\r\n",
       "        renderPlotly();\r\n",
       "    };\r\n",
       "    document.getElementsByTagName(\"head\")[0].appendChild(script); \r\n",
       "}\r\n",
       "else {\r\n",
       "    renderPlotly();\r\n",
       "}\r\n",
       "</script>"
      ]
     },
     "metadata": {},
     "output_type": "display_data"
    }
   ],
   "source": [
    "var lineChart = Chart.Line(df.Rows.Select(g => new Tuple<DateTime, float>(Convert.ToDateTime(g[0]), Convert.ToSingle(g[3]))));\n",
    "lineChart.WithTitle(\"Temperature per Date\");\n",
    "display(lineChart);"
   ]
  },
  {
   "cell_type": "code",
   "execution_count": null,
   "metadata": {},
   "outputs": [],
   "source": []
  }
 ],
 "metadata": {
  "kernelspec": {
   "display_name": ".NET (C#)",
   "language": "C#",
   "name": ".net-csharp"
  },
  "language_info": {
   "file_extension": ".cs",
   "mimetype": "text/x-csharp",
   "name": "C#",
   "pygments_lexer": "csharp",
   "version": "8.0"
  }
 },
 "nbformat": 4,
 "nbformat_minor": 2
}
